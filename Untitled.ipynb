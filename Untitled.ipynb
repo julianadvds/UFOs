{
 "cells": [
  {
   "cell_type": "code",
   "execution_count": 2,
   "id": "f7d27743",
   "metadata": {},
   "outputs": [],
   "source": [
    "# practices writing functions"
   ]
  },
  {
   "cell_type": "code",
   "execution_count": 5,
   "id": "234e7c0e",
   "metadata": {},
   "outputs": [],
   "source": [
    "food_dic = {'Monday':'ice cream', \n",
    "        'Tuesday':'chocolate cake', \n",
    "        'wednesday':'cherry pie', \n",
    "        'thursday':'cookies', \n",
    "        'friday':'apple crumble', \n",
    "        'saturday':'peach cobbler',\n",
    "        'sunday': 'tiramisu'}\n",
    "food_list = {'ice cream', \n",
    "        'Tuesday':'chocolate cake', \n",
    "        'wednesday':'cherry pie', \n",
    "        'thursday':'cookies', \n",
    "        'friday':'apple crumble', \n",
    "        'saturday':'peach cobbler',\n",
    "        'sunday': 'tiramisu'}"
   ]
  },
  {
   "cell_type": "code",
   "execution_count": 25,
   "id": "3d8ddc0d",
   "metadata": {},
   "outputs": [],
   "source": [
    "def favourite_food(food):\n",
    "    print(f'My favourite dessert to eat today is {food}')"
   ]
  },
  {
   "cell_type": "code",
   "execution_count": 34,
   "id": "57a49c26",
   "metadata": {},
   "outputs": [],
   "source": [
    "def favourite_food_date(day, food):\n",
    "    print(f'My favourite dessert to eat on {day} is {food}')"
   ]
  },
  {
   "cell_type": "code",
   "execution_count": 33,
   "id": "d8fee7d9",
   "metadata": {},
   "outputs": [
    {
     "name": "stdout",
     "output_type": "stream",
     "text": [
      "My favourite dessert to eat today is ice cream\n",
      "My favourite dessert to eat today is chocolate cake\n",
      "My favourite dessert to eat today is cherry pie\n",
      "My favourite dessert to eat today is cookies\n",
      "My favourite dessert to eat today is apple crumble\n",
      "My favourite dessert to eat today is peach cobbler\n",
      "My favourite dessert to eat today is tiramisu\n"
     ]
    }
   ],
   "source": [
    "food = food_dic['Monday']\n",
    "days = list(food_dic.keys())\n",
    "\n",
    "for key in food_dic:\n",
    "    food = food_dic[key]\n",
    "    favourite_food(food)"
   ]
  },
  {
   "cell_type": "code",
   "execution_count": 36,
   "id": "ebb89c28",
   "metadata": {},
   "outputs": [
    {
     "name": "stdout",
     "output_type": "stream",
     "text": [
      "My favourite dessert to eat on Monday is ice cream\n",
      "My favourite dessert to eat on Tuesday is chocolate cake\n",
      "My favourite dessert to eat on wednesday is cherry pie\n",
      "My favourite dessert to eat on thursday is cookies\n",
      "My favourite dessert to eat on friday is apple crumble\n",
      "My favourite dessert to eat on saturday is peach cobbler\n",
      "My favourite dessert to eat on sunday is tiramisu\n"
     ]
    }
   ],
   "source": [
    "for key in food_dic:\n",
    "    food = food_dic[key]\n",
    "    favourite_food_date(key, food)"
   ]
  }
 ],
 "metadata": {
  "kernelspec": {
   "display_name": "PythonData",
   "language": "python",
   "name": "pythondata"
  },
  "language_info": {
   "codemirror_mode": {
    "name": "ipython",
    "version": 3
   },
   "file_extension": ".py",
   "mimetype": "text/x-python",
   "name": "python",
   "nbconvert_exporter": "python",
   "pygments_lexer": "ipython3",
   "version": "3.7.10"
  }
 },
 "nbformat": 4,
 "nbformat_minor": 5
}
